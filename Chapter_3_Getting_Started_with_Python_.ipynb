{
  "nbformat": 4,
  "nbformat_minor": 0,
  "metadata": {
    "colab": {
      "name": "Chapter 3 - Getting Started with Python .ipynb",
      "provenance": [],
      "collapsed_sections": []
    },
    "kernelspec": {
      "name": "python3",
      "display_name": "Python 3"
    },
    "language_info": {
      "name": "python"
    }
  },
  "cells": [
    {
      "cell_type": "markdown",
      "source": [
        "#Getting Started with Python\n",
        "-- *The Student's Guide to the world of Python by a Student - Aaditya Bansal*"
      ],
      "metadata": {
        "id": "4pSejfqfv0oI"
      }
    },
    {
      "cell_type": "markdown",
      "source": [
        "\n",
        "\n",
        "---\n",
        "\n"
      ],
      "metadata": {
        "id": "S7tcV1zsN0SC"
      }
    },
    {
      "cell_type": "markdown",
      "source": [
        "#Writting our very first Program\n",
        "To display output on anything on Screen we use the print () function.\n",
        "\n",
        "Just write the following code to print the text on screen :\n",
        "\n",
        "As a popular tradition our first program is going to print \"Hello World\"."
      ],
      "metadata": {
        "id": "IG-g8KnLN4C0"
      }
    },
    {
      "cell_type": "code",
      "source": [
        "print(\"Hello World!\")"
      ],
      "metadata": {
        "colab": {
          "base_uri": "https://localhost:8080/"
        },
        "id": "MOPoPczyN97z",
        "outputId": "de8337b1-9960-4275-b10c-1d2076291df4"
      },
      "execution_count": null,
      "outputs": [
        {
          "output_type": "stream",
          "name": "stdout",
          "text": [
            "Hello World!\n"
          ]
        }
      ]
    },
    {
      "cell_type": "markdown",
      "source": [
        "In the above code we specify the text to be displayed inside Quotes \" \" and the text is passed to the print() function which prints it.\n",
        "\n",
        "**Try printing any text you want by replacing the hello world inside the Quotes** "
      ],
      "metadata": {
        "id": "aeTsNP4PO4st"
      }
    },
    {
      "cell_type": "markdown",
      "source": [
        "\n",
        "\n",
        "---\n",
        "\n"
      ],
      "metadata": {
        "id": "GdBk8-EHPsQQ"
      }
    },
    {
      "cell_type": "markdown",
      "source": [
        "#Using Python Interpreter as Calculator\n",
        "\n",
        "The interpreter acts as a simple calculator: you can type an expression at it and it will write the value. \n",
        "\n",
        "Expression syntax is straightforward: the operators +, -, * and / work just like in most other languages; parentheses (()) can be used for grouping.\n",
        "\n",
        "For Example:"
      ],
      "metadata": {
        "id": "DqbeM9sLPtHm"
      }
    },
    {
      "cell_type": "code",
      "source": [
        "2 + 2"
      ],
      "metadata": {
        "colab": {
          "base_uri": "https://localhost:8080/"
        },
        "id": "6NaldGJ8QG2v",
        "outputId": "88202837-10a3-4023-cc65-3fc2ea2d20f6"
      },
      "execution_count": null,
      "outputs": [
        {
          "output_type": "execute_result",
          "data": {
            "text/plain": [
              "4"
            ]
          },
          "metadata": {},
          "execution_count": 4
        }
      ]
    },
    {
      "cell_type": "code",
      "source": [
        "50 - 2 * 4"
      ],
      "metadata": {
        "colab": {
          "base_uri": "https://localhost:8080/"
        },
        "id": "Slg1jdwoQgew",
        "outputId": "f1625d51-b71d-4498-fb12-cfe6d84d97b6"
      },
      "execution_count": null,
      "outputs": [
        {
          "output_type": "execute_result",
          "data": {
            "text/plain": [
              "42"
            ]
          },
          "metadata": {},
          "execution_count": 5
        }
      ]
    },
    {
      "cell_type": "code",
      "source": [
        "# grouping the operators using parenthesis - brackets ()\n",
        "(25 + 7 * 3) / 2"
      ],
      "metadata": {
        "colab": {
          "base_uri": "https://localhost:8080/"
        },
        "id": "8p8Lbm_OQxaT",
        "outputId": "79221ab2-f2c2-4a7f-a1ea-8220686225f2"
      },
      "execution_count": null,
      "outputs": [
        {
          "output_type": "execute_result",
          "data": {
            "text/plain": [
              "23.0"
            ]
          },
          "metadata": {},
          "execution_count": 9
        }
      ]
    },
    {
      "cell_type": "markdown",
      "source": [
        "**We can also add comments to our code - these are ignored by the interpreters and are not executed - the comments are added for code readability, documentation and to expalain the functionality of code. We can add comments using the \"#\" symbol**"
      ],
      "metadata": {
        "id": "T3t3J2oPhu0f"
      }
    },
    {
      "cell_type": "code",
      "source": [
        "7 / 3 # division operator returns real numbers "
      ],
      "metadata": {
        "colab": {
          "base_uri": "https://localhost:8080/"
        },
        "id": "g6LWmeE2Q5iY",
        "outputId": "7df0c0b3-7801-4c06-a9cd-80ed89a0c621"
      },
      "execution_count": null,
      "outputs": [
        {
          "output_type": "execute_result",
          "data": {
            "text/plain": [
              "2.3333333333333335"
            ]
          },
          "metadata": {},
          "execution_count": 8
        }
      ]
    },
    {
      "cell_type": "markdown",
      "source": [
        "**Note :** The division operator (/) always returns a floating point number - number with the decimal part"
      ],
      "metadata": {
        "id": "uwlNUzT3Q7bA"
      }
    },
    {
      "cell_type": "markdown",
      "source": [
        "\n",
        "\n",
        "---\n",
        "\n"
      ],
      "metadata": {
        "id": "cqhaxT3tiuMr"
      }
    },
    {
      "cell_type": "markdown",
      "source": [
        "There are two additional arithematic operators in python : modulo (%) - (remainder) and base division (//) - (removes the decimal part from the result of division) along with the addition(+), subtraction(-), division(/) and multiplication(*).\n",
        "\n",
        "**We will study all the operators in detail later in this course.**"
      ],
      "metadata": {
        "id": "BjhtP8UZWG9w"
      }
    }
  ]
}